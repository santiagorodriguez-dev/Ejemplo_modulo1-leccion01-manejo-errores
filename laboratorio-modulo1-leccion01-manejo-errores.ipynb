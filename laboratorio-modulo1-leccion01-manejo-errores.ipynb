{
 "cells": [
  {
   "cell_type": "markdown",
   "metadata": {},
   "source": [
    "\n",
    "<div style=\"text-align: center;\">\n",
    "  <img src=\"https://github.com/Hack-io-Data/Imagenes/blob/main/01-LogosHackio/logo_celeste@4x.png?raw=true\" alt=\"esquema\" />\n",
    "</div>\n"
   ]
  },
  {
   "cell_type": "markdown",
   "metadata": {},
   "source": [
    "# Laboratorio de Python: manejo de errores."
   ]
  },
  {
   "cell_type": "markdown",
   "metadata": {},
   "source": [
    "## Ejercicio 1: División con manejo de excepciones\n",
    "\n",
    "Escribe un programa que pida al usuario dos números e intente dividirlos. Si el usuario ingresa un valor no numérico o intenta dividir por cero, maneja esas excepciones de manera adecuada. Asegúrate de mostrar un mensaje indicando si la división fue exitosa o no.\n"
   ]
  },
  {
   "cell_type": "code",
   "execution_count": 11,
   "metadata": {},
   "outputs": [
    {
     "name": "stdout",
     "output_type": "stream",
     "text": [
      "Se ha dividido correctamente resultado: 0.2\n"
     ]
    }
   ],
   "source": [
    "\"\"\"\n",
    "Este programa solicita al usuario que introduzca dos números y realiza la división del primero por el segundo. Maneja varios tipos de errores, como la división por cero y la entrada de datos no numéricos, proporcionando mensajes de error apropiados.\n",
    "\n",
    "El programa realiza lo siguiente:\n",
    "1. Inicializa la variable `resultado` en 0 y `control_error` en `False` para llevar un registro de si ocurrió un error.\n",
    "2. Utiliza un bloque `try` para manejar excepciones:\n",
    "   - Solicita al usuario que introduzca el primer número (`x1`) y el segundo número (`x2`), convirtiendo las entradas a enteros.\n",
    "   - Intenta realizar la división de `x1` entre `x2` y almacena el resultado en la variable `resultado`.\n",
    "3. Maneja excepciones específicas:\n",
    "   - Captura `ZeroDivisionError` si el segundo número es cero, imprime un mensaje que indica que no se puede dividir por cero y establece `control_error` en `True`.\n",
    "   - Captura `ValueError` si el usuario introduce un valor no numérico, imprime un mensaje que indica que no se pueden dividir letras y establece `control_error` en `True`.\n",
    "   - Captura cualquier otra excepción general y muestra un mensaje de error, también estableciendo `control_error` en `True`.\n",
    "4. Utiliza un bloque `finally` para ejecutar código que se ejecuta independientemente de si se produjo un error o no:\n",
    "   - Si `control_error` es `False`, imprime el resultado de la división.\n",
    "   - Si `control_error` es `True`, imprime un mensaje que indica que la operación no se realizó correctamente.\n",
    "\n",
    "Este programa es útil para demostrar la gestión de errores al realizar operaciones matemáticas y la interacción con el usuario.\n",
    "\"\"\"\n",
    "\n",
    "resultado = 0\n",
    "control_error = False\n",
    "\n",
    "try:\n",
    "    x1 = int(input('introduce el primer numero:'))\n",
    "    x2 = int(input('introduce el segundo numero:'))\n",
    "\n",
    "    resultado = x1 / x2\n",
    "\n",
    "except ZeroDivisionError:\n",
    "    print(\"No se puede dividir por 0\")\n",
    "    control_error = True\n",
    "except ValueError:\n",
    "    print(\"No se pueden divir letras\")\n",
    "    control_error = True\n",
    "except:\n",
    "    print(\"Error General\")\n",
    "    control_error = True\n",
    "\n",
    "finally:\n",
    "    if (control_error == False):\n",
    "        print(f\"Se ha dividido correctamente resultado: {resultado}\")\n",
    "    else:\n",
    "        print(f\"La operacion no se ha realizado correctamente\")"
   ]
  },
  {
   "cell_type": "markdown",
   "metadata": {},
   "source": [
    "## Ejercicio 2: Acceso a archivos\n",
    "\n",
    "Escribe un programa que intente abrir un archivo llamado \"datos.txt\". Si el archivo no existe, captura la excepción y muestra un mensaje de error. Asegúrate de cerrar el archivo correctamente en la sección `finally`.\n"
   ]
  },
  {
   "cell_type": "code",
   "execution_count": 12,
   "metadata": {},
   "outputs": [
    {
     "name": "stdout",
     "output_type": "stream",
     "text": [
      "Contenido de la primera linea\n",
      "Contenido de la segunda linea\n",
      "Contenido de la tercera linea\n",
      "Contenido de la cuarta linea\n",
      "Cerramos el fichero\n"
     ]
    }
   ],
   "source": [
    "\"\"\"\n",
    "Este programa intenta abrir y leer el contenido de un archivo de texto llamado 'fichero.txt'. Maneja errores relacionados con la apertura del archivo y asegura que se cierra correctamente al final, independientemente de si se produjo un error.\n",
    "\n",
    "El programa realiza lo siguiente:\n",
    "1. Utiliza un bloque `try` para manejar excepciones:\n",
    "   - Intenta abrir el archivo 'fichero.txt' en modo lectura.\n",
    "   - Si se abre con éxito, imprime el contenido del archivo usando `fichero.read()`.\n",
    "2. Maneja excepciones específicas:\n",
    "   - Captura `FileNotFoundError` si el archivo no se encuentra, imprime un mensaje indicando que hubo un error al abrir el archivo.\n",
    "   - Captura cualquier otra excepción general y muestra un mensaje de error.\n",
    "3. Utiliza un bloque `finally` para asegurar que el archivo se cierra:\n",
    "   - Llama a `fichero.close()` para cerrar el archivo.\n",
    "   - Imprime un mensaje indicando que se cierra el archivo.\n",
    "\n",
    "Este programa es útil para demostrar cómo manejar errores al trabajar con archivos y cómo garantizar que los recursos se cierren correctamente.\n",
    "\"\"\"\n",
    "\n",
    "try:\n",
    "    fichero = open('fichero.txt')\n",
    "    print(fichero.read())\n",
    "except FileNotFoundError:\n",
    "    print(f\"Error al abrir el fichero\")\n",
    "except:\n",
    "    print(f\"Error General\")\n",
    "finally:\n",
    "    fichero.close()\n",
    "    print(f\"Cerramos el fichero\")"
   ]
  },
  {
   "cell_type": "markdown",
   "metadata": {},
   "source": [
    "## Ejercicio 3: Conversión de cadenas a enteros\n",
    "\n",
    "Escribe un programa que pida una lista de números separados por comas y convierta cada valor a un número entero. Maneja las excepciones para valores que no sean convertibles y asegúrate de informar si la conversión fue exitosa o no.\n"
   ]
  },
  {
   "cell_type": "code",
   "execution_count": 14,
   "metadata": {},
   "outputs": [
    {
     "name": "stdout",
     "output_type": "stream",
     "text": [
      "cadena de entrada 1,2,3,7\n",
      "cadena convertida correctamente: [1, 2, 3, 7]\n"
     ]
    }
   ],
   "source": [
    "\"\"\"\n",
    "Este programa solicita al usuario que introduzca una cadena de números enteros separados por comas. Luego intenta convertir esa cadena en una lista de números enteros, manejando posibles errores de formato.\n",
    "\n",
    "El programa realiza lo siguiente:\n",
    "1. Inicializa la variable `control_error` en `False` y crea una lista vacía `spliteado_numeros` para almacenar los números convertidos.\n",
    "2. Utiliza un bloque `try` para manejar excepciones:\n",
    "   - Solicita al usuario que introduzca una cadena de enteros separados por comas (`cadena_entrada`).\n",
    "   - Imprime la cadena de entrada.\n",
    "   - Usa `split(\",\")` para dividir la cadena en una lista de subcadenas (`spliteado_texto`).\n",
    "   - Intenta convertir cada subcadena en un número entero y lo añade a la lista `spliteado_numeros`.\n",
    "3. Maneja excepciones específicas:\n",
    "   - Captura `ValueError` si la conversión de alguna subcadena a entero falla (por ejemplo, si hay caracteres no numéricos), imprime un mensaje indicando que el formato de entrada es incorrecto y establece `control_error` en `True`.\n",
    "   - Captura cualquier otra excepción general y muestra un mensaje de error, también estableciendo `control_error` en `True`.\n",
    "4. Utiliza un bloque `finally` para ejecutar código que se ejecuta independientemente de si se produjo un error o no:\n",
    "   - Si `control_error` es `False`, imprime la lista de números convertidos correctamente.\n",
    "   - Si `control_error` es `True`, imprime un mensaje que indica que la operación de conversión no se realizó correctamente.\n",
    "\n",
    "Este programa es útil para demostrar cómo manejar la entrada del usuario y convertir datos de texto en un formato numérico adecuado, así como la gestión de errores en el proceso.\n",
    "\"\"\"\n",
    "\n",
    "control_error = False\n",
    "spliteado_numeros =[]\n",
    "\n",
    "try:\n",
    "    cadena_entrada = input('introduce cadena de enteros, separados por comas:')\n",
    "    print(\"cadena de entrada\", cadena_entrada)\n",
    "    \n",
    "    spliteado_texto = cadena_entrada.split(\",\")\n",
    "    \n",
    "    for num in spliteado_texto:\n",
    "        spliteado_numeros.append(int(num))\n",
    "\n",
    "except ValueError:\n",
    "    print(\"Formato incorrecto de entrada, deben de ser numeros separados por comas\")\n",
    "    control_error = True\n",
    "except:\n",
    "    print(\"Error General\")\n",
    "    control_error = True\n",
    "\n",
    "finally:\n",
    "    if (control_error == False):\n",
    "        print(f\"cadena convertida correctamente: {spliteado_numeros}\")\n",
    "    else:\n",
    "        print(f\"La operacion de conversion no se ha realizado correctamente\")"
   ]
  },
  {
   "cell_type": "markdown",
   "metadata": {},
   "source": [
    "#### Ejercicio 4: Cálculo del promedio con manejo de excepciones\n",
    "\n",
    "Escribe una función que reciba una lista de números y calcule su promedio. Si la lista está vacía, lanza una excepción personalizada y maneja el error adecuadamente.\n"
   ]
  },
  {
   "cell_type": "code",
   "execution_count": 46,
   "metadata": {},
   "outputs": [
    {
     "name": "stdout",
     "output_type": "stream",
     "text": [
      "El promedio es:51.833333333333336\n",
      "La lista esta vacia\n"
     ]
    }
   ],
   "source": [
    "    \n",
    "\"\"\"\n",
    "Este programa define una función llamada `promedio` que calcula el promedio de una lista de números. Maneja posibles errores y también proporciona un mensaje si la lista está vacía.\n",
    "\n",
    "El programa realiza lo siguiente:\n",
    "1. Define la función `promedio(num_entrada)`, que acepta una lista de números como argumento.\n",
    "   - Inicializa `sum_num` en 0 para almacenar la suma de los números y `longitud` en 0 para almacenar el número de elementos en la lista.\n",
    "2. Utiliza un bloque `try` para manejar excepciones:\n",
    "   - Itera sobre cada número en `num_entrada`, acumulando su suma en `sum_num`.\n",
    "   - Calcula la longitud de la lista usando `len(num_entrada)`.\n",
    "   - Si la longitud es mayor que 0, calcula el promedio dividiendo `sum_num` entre `longitud` y lo imprime.\n",
    "   - Si la longitud es 0, imprime un mensaje indicando que la lista está vacía.\n",
    "3. Captura cualquier excepción general y muestra un mensaje de error si ocurre algún problema.\n",
    "4. Realiza dos llamadas a la función `promedio`:\n",
    "   - La primera llamada pasa una lista de números para calcular y mostrar su promedio.\n",
    "   - La segunda llamada pasa una lista vacía para demostrar el manejo del caso en que no hay datos.\n",
    "\n",
    "Este programa es útil para demostrar cómo calcular promedios y manejar entradas no válidas o vacías de manera efectiva.\n",
    "\"\"\"\n",
    "\n",
    "def promedio(num_entrada):\n",
    "    sum_num = 0\n",
    "    longitud = 0\n",
    "\n",
    "    try:\n",
    "        for x in num_entrada:\n",
    "            sum_num = sum_num + x\n",
    "        \n",
    "        longitud = len(num_entrada)\n",
    "        \n",
    "        if longitud > 0:\n",
    "                avg = sum_num / longitud\n",
    "                print(f\"El promedio es:{avg}\")\n",
    "        else:\n",
    "            print(\"La lista esta vacia\")      \n",
    "    except:\n",
    "        print(\"Error general\")\n",
    "\n",
    "# LLamada con datos\n",
    "promedio([99,34,1,12,88,77])\n",
    "\n",
    "# LLamada sin datos\n",
    "promedio([])\n"
   ]
  },
  {
   "cell_type": "markdown",
   "metadata": {},
   "source": [
    "#### Ejercicio 5: Conversión segura de números\n",
    "\n",
    "Escribe un programa que convierta una cadena a número flotante e intente realizar una operación aritmética. Si la conversión falla, maneja la excepción y continúa con el flujo normal."
   ]
  },
  {
   "cell_type": "code",
   "execution_count": 21,
   "metadata": {},
   "outputs": [
    {
     "name": "stdout",
     "output_type": "stream",
     "text": [
      "entrada: 8478343\n",
      "resultado:  8478343.0\n"
     ]
    }
   ],
   "source": [
    "\"\"\"\n",
    "Este programa solicita al usuario que introduzca una cadena de texto que representa un número y intenta convertirla en un número de punto flotante. Maneja errores de conversión y proporciona un mensaje claro en caso de que la conversión falle.\n",
    "\n",
    "El programa realiza lo siguiente:\n",
    "1. Utiliza un bloque `try` para manejar excepciones:\n",
    "   - Solicita al usuario que introduzca una cadena numérica (`cadena_entrada`).\n",
    "   - Imprime la cadena de entrada.\n",
    "   - Intenta convertir la cadena a un número de punto flotante usando `float(cadena_entrada)` y almacena el resultado en la variable `result`.\n",
    "   - Si la conversión tiene éxito, imprime el resultado.\n",
    "2. Maneja excepciones específicas:\n",
    "   - Captura `ValueError` si la cadena de entrada no puede convertirse a un número de punto flotante (por ejemplo, si contiene caracteres no numéricos), imprimiendo un mensaje que indica que hubo un error de conversión y mostrando la cadena que causó el error.\n",
    "\n",
    "Este programa es útil para demostrar cómo manejar entradas del usuario y convertirlas a tipos numéricos, así como cómo gestionar errores que pueden surgir durante este proceso.\n",
    "\"\"\"\n",
    "\n",
    "try:\n",
    "    cadena_entrada = input('introduce cadena numerica:')\n",
    "    print(\"entrada:\", cadena_entrada)\n",
    "    result = float(cadena_entrada)\n",
    "    print(\"resultado: \", result)\n",
    "except ValueError:\n",
    "    print(f\"Error convirtiendo a coma flotante, el siguiente valor no se puede convertir: {cadena_entrada}\")\n",
    "\n"
   ]
  },
  {
   "cell_type": "markdown",
   "metadata": {},
   "source": [
    "#### Ejercicio 6: Acceso a claves en diccionarios\n",
    "\n",
    "Escribe un programa que intente acceder a una clave específica en un diccionario. Si la clave no existe, maneja la excepción `KeyError` y muestra un mensaje indicando el problema."
   ]
  },
  {
   "cell_type": "code",
   "execution_count": 1,
   "metadata": {},
   "outputs": [
    {
     "name": "stdout",
     "output_type": "stream",
     "text": [
      "{'Nombre': 'Santi', 'Edad': 44, 'Documento': '1003882K'}\n",
      "1003882K\n",
      "{'Nombre': 'Santi', 'Edad': 44, 'Documento': '1003882K'}\n",
      "Clave no encontrada\n"
     ]
    }
   ],
   "source": [
    "\"\"\"\n",
    "Este programa define una función llamada `buscar_key` que busca una clave específica en un diccionario predefinido y maneja la situación en que la clave no se encuentra.\n",
    "\n",
    "El programa realiza lo siguiente:\n",
    "1. Define la función `buscar_key(clave)`, que acepta un argumento `clave` que representa la clave que se desea buscar en el diccionario.\n",
    "2. Crea un diccionario llamado `diccionario` que contiene información sobre una persona (nombre, edad y documento).\n",
    "3. Utiliza un bloque `try` para manejar excepciones:\n",
    "   - Imprime el contenido del diccionario.\n",
    "   - Intenta acceder al valor correspondiente a la clave proporcionada (`clave`) y lo imprime.\n",
    "4. Captura la excepción `KeyError` si la clave no se encuentra en el diccionario e imprime un mensaje que indica que la clave no fue encontrada.\n",
    "5. Realiza dos llamadas a la función `buscar_key`:\n",
    "   - La primera llamada busca la clave \"Documento\", que existe en el diccionario.\n",
    "   - La segunda llamada busca la clave \"Otra\", que no existe en el diccionario, lo que desencadena la excepción y muestra el mensaje correspondiente.\n",
    "\n",
    "Este programa es útil para demostrar cómo trabajar con diccionarios en Python y manejar excepciones al intentar acceder a claves que pueden no existir.\n",
    "\"\"\"\n",
    "\n",
    "def buscar_key(clave):\n",
    "\n",
    "  diccionario = {\n",
    "    \"Nombre\": \"Santi\",\n",
    "    \"Edad\": 44,\n",
    "    \"Documento\": \"1003882K\"\n",
    "  }\n",
    "\n",
    "  try:\n",
    "    print(diccionario)\n",
    "    print(diccionario[clave])\n",
    "  except KeyError :\n",
    "    print(\"Clave no encontrada\")\n",
    "\n",
    "buscar_key(\"Documento\")\n",
    "buscar_key(\"Otra\")"
   ]
  },
  {
   "cell_type": "markdown",
   "metadata": {},
   "source": [
    "\n",
    "#### Ejercicio 7: Verificación de entradas de usuario\n",
    "\n",
    "Escribe un programa que pida al usuario que introduzca su edad. Si el usuario ingresa un valor no numérico o un valor fuera del rango esperado (por ejemplo, menor que 0 o mayor que 120), maneja las excepciones adecuadamente."
   ]
  },
  {
   "cell_type": "code",
   "execution_count": 43,
   "metadata": {},
   "outputs": [
    {
     "name": "stdout",
     "output_type": "stream",
     "text": [
      "Formato incorrecto de entrada, deben de ser numeros\n"
     ]
    }
   ],
   "source": [
    "\"\"\"\n",
    "Este programa solicita al usuario que introduzca su edad y valida que la entrada sea un número dentro del rango de 0 a 120. Maneja errores de entrada y proporciona mensajes claros según el resultado de la validación.\n",
    "\n",
    "El programa realiza lo siguiente:\n",
    "1. Utiliza un bloque `try` para manejar excepciones:\n",
    "   - Solicita al usuario que introduzca su edad (`edad`), convirtiendo la entrada a un entero con `int()`.\n",
    "2. Valida si la edad ingresada está dentro del rango permitido (0 a 120):\n",
    "   - Si la edad está dentro del rango, imprime la edad introducida.\n",
    "   - Si la edad está fuera del rango, imprime un mensaje indicando que el rango no es permitido.\n",
    "3. Maneja excepciones específicas:\n",
    "   - Captura `ValueError` si la conversión de la entrada a un entero falla (por ejemplo, si el usuario introduce caracteres no numéricos), imprimiendo un mensaje que indica que el formato de entrada es incorrecto y que se deben introducir números.\n",
    "   - Captura cualquier otra excepción general y muestra un mensaje de error.\n",
    "\n",
    "Este programa es útil para demostrar cómo manejar la entrada del usuario y validar los datos en Python, asegurando que se cumplen las condiciones esperadas antes de proceder con la lógica del programa.\n",
    "\"\"\"\n",
    "\n",
    "try:\n",
    "    edad = int(input('introduce tu edad, valido numeros y rango de 0 a 120'))\n",
    "    \n",
    "    if edad >= 0 and edad <=120:\n",
    "        print(f\"la edad introducida es: {edad}\")\n",
    "    else:\n",
    "        print(\"rango no permitido\")\n",
    "    \n",
    "except ValueError:\n",
    "    print(\"Formato incorrecto de entrada, deben de ser numeros\")\n",
    "except:\n",
    "    print(\"Error General\")\n"
   ]
  },
  {
   "cell_type": "markdown",
   "metadata": {},
   "source": [
    "#### Ejercicio 8: Extracción de valores de una lista\n",
    "\n",
    "Escribe una función que intente acceder a un índice específico en una lista. Si el índice está fuera del rango, maneja la excepción `IndexError` y muestra un mensaje adecuado.\n"
   ]
  },
  {
   "cell_type": "code",
   "execution_count": 1,
   "metadata": {},
   "outputs": [
    {
     "name": "stdout",
     "output_type": "stream",
     "text": [
      "Datos de entrada: [1, 3, 4, 7, 8, 4, '2', 'datos_lista']\n",
      "1\n",
      "datos_lista\n",
      "Se ha introducido un indice incorrecto, indice: 10\n",
      "4\n"
     ]
    }
   ],
   "source": [
    "\"\"\"\n",
    "Este programa define una función llamada `acceder_indice` que intenta acceder a un elemento de una lista utilizando un índice proporcionado por el usuario. Maneja errores de acceso a índices incorrectos.\n",
    "\n",
    "El programa realiza lo siguiente:\n",
    "1. Define la función `acceder_indice(indice, lista)`, que acepta dos argumentos:\n",
    "   - `indice`: el índice del elemento que se desea acceder en la lista.\n",
    "   - `lista`: la lista de la cual se quiere obtener el elemento.\n",
    "2. Utiliza un bloque `try` para manejar excepciones:\n",
    "   - Intenta imprimir el elemento de la lista en la posición especificada por `indice`.\n",
    "3. Captura la excepción `IndexError` si se introduce un índice que está fuera del rango de la lista, imprimiendo un mensaje que indica que se ha introducido un índice incorrecto y muestra el índice que causó el error.\n",
    "4. Crea una lista llamada `lista` que contiene varios tipos de elementos (números enteros, una cadena de texto y una cadena que representa un número).\n",
    "5. Imprime la lista de datos de entrada.\n",
    "6. Realiza varias llamadas a la función `acceder_indice` con diferentes índices, incluyendo índices válidos y no válidos (como -1 y 10).\n",
    "\n",
    "Este programa es útil para demostrar cómo acceder a elementos de una lista en Python y manejar excepciones relacionadas con el acceso a índices no válidos.\n",
    "\"\"\"\n",
    "\n",
    "def acceder_indice(indice,lista):\n",
    "    try:\n",
    "        print(lista[indice])\n",
    "    except IndexError:\n",
    "        print(f\"Se ha introducido un indice incorrecto, indice: {indice}\")\n",
    "\n",
    "\n",
    "lista= [1,3,4,7,8,4,'2',\"datos_lista\"]\n",
    "print(f\"Datos de entrada: {lista}\")\n",
    "\n",
    "acceder_indice(0,lista)\n",
    "acceder_indice(-1,lista)\n",
    "acceder_indice(10,lista)\n",
    "acceder_indice(2,lista)\n"
   ]
  }
 ],
 "metadata": {
  "kernelspec": {
   "display_name": "contenido",
   "language": "python",
   "name": "python3"
  },
  "language_info": {
   "codemirror_mode": {
    "name": "ipython",
    "version": 3
   },
   "file_extension": ".py",
   "mimetype": "text/x-python",
   "name": "python",
   "nbconvert_exporter": "python",
   "pygments_lexer": "ipython3",
   "version": "3.12.5"
  }
 },
 "nbformat": 4,
 "nbformat_minor": 2
}
